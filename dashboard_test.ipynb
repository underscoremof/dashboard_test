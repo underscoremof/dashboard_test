{
 "cells": [
  {
   "cell_type": "code",
   "execution_count": 30,
   "id": "133ea807",
   "metadata": {
    "tags": []
   },
   "outputs": [
    {
     "data": {
      "application/vnd.jupyter.widget-view+json": {
       "model_id": "47bd0da30cbd4776ba1466177e8df827",
       "version_major": 2,
       "version_minor": 0
      },
      "text/plain": [
       "FileUpload(value=(), description='Upload')"
      ]
     },
     "metadata": {},
     "output_type": "display_data"
    },
    {
     "data": {
      "application/vnd.jupyter.widget-view+json": {
       "model_id": "fd952e19f7784036bbf0bd37a479df65",
       "version_major": 2,
       "version_minor": 0
      },
      "text/plain": [
       "Label(value='')"
      ]
     },
     "metadata": {},
     "output_type": "display_data"
    },
    {
     "data": {
      "application/vnd.jupyter.widget-view+json": {
       "model_id": "3a127e35614c4d1b9d0869bc48561895",
       "version_major": 2,
       "version_minor": 0
      },
      "text/plain": [
       "Button(description='Run Analysis', style=ButtonStyle(), tooltip='')"
      ]
     },
     "metadata": {},
     "output_type": "display_data"
    },
    {
     "data": {
      "application/vnd.jupyter.widget-view+json": {
       "model_id": "8a9f8c44c8414483beeb02bca2071f50",
       "version_major": 2,
       "version_minor": 0
      },
      "text/plain": [
       "Label(value='')"
      ]
     },
     "metadata": {},
     "output_type": "display_data"
    }
   ],
   "source": [
    "from ipywidgets import widgets\n",
    "\n",
    "uploader = widgets.FileUpload()\n",
    "label = widgets.Label(\"\")\n",
    "\n",
    "def on_upload_change(change):\n",
    "    text=uploader.value[0]['name']\n",
    "    label.value = text\n",
    "\n",
    "uploader.observe(on_upload_change, names='value')\n",
    "\n",
    "label2=widgets.Label(\"\")\n",
    "\n",
    "def analysis(x):\n",
    "    x=\"run analysis\"\n",
    "    label2.value=x\n",
    "    \n",
    "def test(x):\n",
    "    x='test'\n",
    "    print(x)\n",
    "    \n",
    "analyse=widgets.Button(description='Run Analysis',tooltip='',  icon='')\n",
    "\n",
    "analyse.on_click(analysis)\n",
    "\n",
    "display(uploader, label, analyse, label2)"
   ]
  },
  {
   "cell_type": "code",
   "execution_count": null,
   "id": "2fe5976e-e0f4-4024-a348-a021bf7c163d",
   "metadata": {
    "tags": []
   },
   "outputs": [],
   "source": []
  },
  {
   "cell_type": "code",
   "execution_count": null,
   "id": "bb7dc4a9-7775-4eb9-a1ac-cfa8668a3944",
   "metadata": {},
   "outputs": [],
   "source": []
  }
 ],
 "metadata": {
  "kernelspec": {
   "display_name": "Python 3 (ipykernel)",
   "language": "python",
   "name": "python3"
  },
  "language_info": {
   "codemirror_mode": {
    "name": "ipython",
    "version": 3
   },
   "file_extension": ".py",
   "mimetype": "text/x-python",
   "name": "python",
   "nbconvert_exporter": "python",
   "pygments_lexer": "ipython3",
   "version": "3.11.2"
  }
 },
 "nbformat": 4,
 "nbformat_minor": 5
}
